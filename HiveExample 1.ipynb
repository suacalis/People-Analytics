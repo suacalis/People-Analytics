{
 "cells": [
  {
   "cell_type": "markdown",
   "metadata": {},
   "source": [
    "## Hiveplot example"
   ]
  },
  {
   "cell_type": "code",
   "execution_count": 1,
   "metadata": {},
   "outputs": [],
   "source": [
    "import networkx as nx\n",
    "from datetime import datetime\n",
    "import matplotlib.pyplot as plt\n",
    "import numpy as np\n",
    "import warnings\n",
    "\n",
    "from pyveplot import Hiveplot, Axis, Node\n",
    "warnings.filterwarnings('ignore')\n",
    "import random\n",
    "%load_ext autoreload\n",
    "%autoreload 2\n",
    "%matplotlib inline\n",
    "%config InlineBackend.figure_format = 'retina'"
   ]
  },
  {
   "cell_type": "code",
   "execution_count": 2,
   "metadata": {},
   "outputs": [],
   "source": [
    "c = ['#e41a1c', '#377eb8', '#4daf4a',\n",
    "         '#984ea3', '#ff7f00', '#ffff33',\n",
    "         '#a65628', '#f781bf', '#999999',]"
   ]
  },
  {
   "cell_type": "code",
   "execution_count": 3,
   "metadata": {},
   "outputs": [],
   "source": [
    "# create hiveplot object\n",
    "h = Hiveplot()"
   ]
  },
  {
   "cell_type": "code",
   "execution_count": 4,
   "metadata": {},
   "outputs": [],
   "source": [
    "# create three axes, spaced at 120 degrees from each other\n",
    "h.axes = [Axis(start=20, angle=0,\n",
    "                stroke=random.choice(c), stroke_width=1.1),\n",
    "            Axis(start=20, angle=120,\n",
    "                stroke=random.choice(c), stroke_width=1.1),\n",
    "            Axis(start=20, angle=120 + 120,\n",
    "                stroke=random.choice(c), stroke_width=1.1)\n",
    "              ]\n"
   ]
  },
  {
   "cell_type": "code",
   "execution_count": 5,
   "metadata": {},
   "outputs": [],
   "source": [
    "# create a random Barabasi-Albert network\n",
    "g = nx.barabasi_albert_graph(100, 2)\n"
   ]
  },
  {
   "cell_type": "code",
   "execution_count": 6,
   "metadata": {},
   "outputs": [],
   "source": [
    " # sort nodes by degree\n",
    "k = list(nx.degree(g))\n",
    "k.sort(key=lambda tup: tup[1])\n"
   ]
  },
  {
   "cell_type": "code",
   "execution_count": 7,
   "metadata": {},
   "outputs": [],
   "source": [
    "# categorize them as high, medium and low degree\n",
    "hi_deg = [v[0] for v in k if v[1] > 7]\n",
    "md_deg = [v[0] for v in k if v[1] > 3 and v[1] <= 7]\n",
    "lo_deg = [v[0] for v in k if v[1] <= 3]"
   ]
  },
  {
   "cell_type": "code",
   "execution_count": 8,
   "metadata": {},
   "outputs": [],
   "source": [
    "# place these nodes into our three axes\n",
    "for axis, nodes in zip(h.axes,[hi_deg, md_deg, lo_deg]):\n",
    "    circle_color = random.choice(c)\n",
    "    for v in nodes:\n",
    "        # create node object\n",
    "            node = Node(radius=g.degree(v),\n",
    "                        label=\"node %s k=%s\" % (v, g.degree(v)))\n",
    "            # add it to axis\n",
    "            axis.add_node(v, node)\n",
    "            # once it has x, y coordinates, add a circle\n",
    "            node.add_circle(fill=circle_color, stroke=circle_color,\n",
    "                            stroke_width=0.1, fill_opacity=0.7)\n",
    "            if axis.angle < 180:\n",
    "                orientation = -1\n",
    "                scale = 0.6\n",
    "            else:\n",
    "                orientation = 1\n",
    "                scale = 0.35\n",
    "            # also add a label\n",
    "            node.add_label(\"node %s k=%s\" % (v, g.degree(v)),\n",
    "                           angle=axis.angle + 90 * orientation,\n",
    "                           scale=scale)"
   ]
  },
  {
   "cell_type": "code",
   "execution_count": 9,
   "metadata": {},
   "outputs": [],
   "source": [
    "# iterate through axes, from left to right\n",
    "for n in range(-1, len(h.axes) - 1):\n",
    "    curve_color = random.choice(c)\n",
    "# draw curves between nodes connected by edges in network\n",
    "    h.connect_axes(h.axes[n],\n",
    "                    h.axes[n+1],\n",
    "                    g.edges,\n",
    "                    stroke_width=0.5,\n",
    "                    stroke=curve_color)\n"
   ]
  },
  {
   "cell_type": "code",
   "execution_count": 10,
   "metadata": {},
   "outputs": [],
   "source": [
    "# save output\n",
    "h.save('ba_hiveplot.svg')\n"
   ]
  },
  {
   "cell_type": "code",
   "execution_count": 11,
   "metadata": {},
   "outputs": [
    {
     "ename": "AttributeError",
     "evalue": "'Hiveplot' object has no attribute 'show'",
     "output_type": "error",
     "traceback": [
      "\u001b[1;31m---------------------------------------------------------------------------\u001b[0m",
      "\u001b[1;31mAttributeError\u001b[0m                            Traceback (most recent call last)",
      "\u001b[1;32m<ipython-input-11-a49aa236e4d3>\u001b[0m in \u001b[0;36m<module>\u001b[1;34m\u001b[0m\n\u001b[1;32m----> 1\u001b[1;33m \u001b[0mh\u001b[0m\u001b[1;33m.\u001b[0m\u001b[0mshow\u001b[0m\u001b[1;33m(\u001b[0m\u001b[1;33m)\u001b[0m\u001b[1;33m\u001b[0m\u001b[1;33m\u001b[0m\u001b[0m\n\u001b[0m",
      "\u001b[1;31mAttributeError\u001b[0m: 'Hiveplot' object has no attribute 'show'"
     ]
    }
   ],
   "source": [
    "h.show()"
   ]
  },
  {
   "cell_type": "code",
   "execution_count": 12,
   "metadata": {},
   "outputs": [
    {
     "ename": "NameError",
     "evalue": "name 'nxv' is not defined",
     "output_type": "error",
     "traceback": [
      "\u001b[1;31m---------------------------------------------------------------------------\u001b[0m",
      "\u001b[1;31mNameError\u001b[0m                                 Traceback (most recent call last)",
      "\u001b[1;32m<ipython-input-12-fbc2c8653275>\u001b[0m in \u001b[0;36m<module>\u001b[1;34m\u001b[0m\n\u001b[1;32m----> 1\u001b[1;33m c = nxv.CircosPlot(Gu, node_color='gender', node_grouping='gender',\n\u001b[0m\u001b[0;32m      2\u001b[0m                    \u001b[1;31m#edge_width=(edges['Weight'] / edges['Weight'].quantile(0.97)).tolist(),\u001b[0m\u001b[1;33m\u001b[0m\u001b[1;33m\u001b[0m\u001b[1;33m\u001b[0m\u001b[0m\n\u001b[0;32m      3\u001b[0m                    \u001b[0mnode_labels\u001b[0m\u001b[1;33m=\u001b[0m\u001b[1;32mTrue\u001b[0m\u001b[1;33m,\u001b[0m \u001b[0mnode_label_layout\u001b[0m\u001b[1;33m=\u001b[0m\u001b[1;34m'rotation'\u001b[0m\u001b[1;33m,\u001b[0m\u001b[1;33m\u001b[0m\u001b[1;33m\u001b[0m\u001b[0m\n\u001b[0;32m      4\u001b[0m                    \u001b[0mgroup_label_position\u001b[0m\u001b[1;33m=\u001b[0m\u001b[1;34m\"middle\"\u001b[0m\u001b[1;33m,\u001b[0m\u001b[1;33m\u001b[0m\u001b[1;33m\u001b[0m\u001b[0m\n\u001b[0;32m      5\u001b[0m                    \u001b[0mgroup_label_offset\u001b[0m\u001b[1;33m=\u001b[0m\u001b[1;36m12\u001b[0m\u001b[1;33m,\u001b[0m\u001b[1;33m\u001b[0m\u001b[1;33m\u001b[0m\u001b[0m\n",
      "\u001b[1;31mNameError\u001b[0m: name 'nxv' is not defined"
     ]
    }
   ],
   "source": [
    "c = nxv.CircosPlot(Gu, node_color='gender', node_grouping='gender',\n",
    "                   #edge_width=(edges['Weight'] / edges['Weight'].quantile(0.97)).tolist(),\n",
    "                   node_labels=True, node_label_layout='rotation',\n",
    "                   group_label_position=\"middle\", \n",
    "                   group_label_offset=12,\n",
    "                   figsize=(30,18))\n",
    "c.draw()"
   ]
  },
  {
   "cell_type": "code",
   "execution_count": null,
   "metadata": {},
   "outputs": [],
   "source": []
  },
  {
   "cell_type": "code",
   "execution_count": null,
   "metadata": {},
   "outputs": [],
   "source": []
  }
 ],
 "metadata": {
  "kernelspec": {
   "display_name": "Python 3",
   "language": "python",
   "name": "python3"
  },
  "language_info": {
   "codemirror_mode": {
    "name": "ipython",
    "version": 3
   },
   "file_extension": ".py",
   "mimetype": "text/x-python",
   "name": "python",
   "nbconvert_exporter": "python",
   "pygments_lexer": "ipython3",
   "version": "3.7.4"
  },
  "toc": {
   "base_numbering": 1,
   "nav_menu": {},
   "number_sections": true,
   "sideBar": true,
   "skip_h1_title": false,
   "title_cell": "Table of Contents",
   "title_sidebar": "Contents",
   "toc_cell": false,
   "toc_position": {},
   "toc_section_display": true,
   "toc_window_display": false
  }
 },
 "nbformat": 4,
 "nbformat_minor": 2
}
