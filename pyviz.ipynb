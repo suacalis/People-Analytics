{
 "cells": [
  {
   "cell_type": "code",
   "execution_count": 285,
   "id": "1a769fcc",
   "metadata": {},
   "outputs": [],
   "source": [
    "#Create HTML Report with PyVis Tom Butler 20/11/21"
   ]
  },
  {
   "cell_type": "code",
   "execution_count": 286,
   "id": "ce39340d",
   "metadata": {},
   "outputs": [],
   "source": [
    "from pyvis.network import Network\n",
    "import pandas as pd"
   ]
  },
  {
   "cell_type": "code",
   "execution_count": 287,
   "id": "b3254fcf",
   "metadata": {},
   "outputs": [],
   "source": [
    "#set prams for output\n",
    "got_net =Network(\n",
    "    height=\"100%\",\n",
    "    width=\"100%\",\n",
    "    bgcolor=\"#222222\",\n",
    "    font_color=\"white\"\n",
    ")    "
   ]
  },
  {
   "cell_type": "code",
   "execution_count": 288,
   "id": "e2572ab9",
   "metadata": {},
   "outputs": [],
   "source": [
    "# set the physics layout of the network\n",
    "got_net.barnes_hut()\n",
    "got_net.repulsion()\n",
    "got_net.toggle_hide_edges_on_drag(True)\n",
    "got_data =pd.read_csv(\"nocc.csv\")"
   ]
  },
  {
   "cell_type": "code",
   "execution_count": 289,
   "id": "967137cd",
   "metadata": {},
   "outputs": [],
   "source": [
    "#build a DF\n",
    "#got_data = got_data.query('company_x == \"Infineon\" and company_y == \"Cypress\" and Ihrjobfam_x == \"Finance\"')\n",
    "got_data = got_data.query('company_x == \"Infineon\" and company_y == \"Cypress\" and Ihrjobfam_x == \"Finance\" and Ihrjobfam_y == \"Finance\" ')\n",
    "#got_data = got_data.query('company_x == \"Infineon\" and company_y == \"Cypress\"')\n",
    "#got_data = got_data.query('Ihrjobfam_y == \"Finance\"  and Ihrjobfam_x == \"Finance\"')\n",
    "#got_data = got_data.query('company_x == \"Infineon\" and company_y == \"Cypress\" and Function_x == \"Corporate\" and Function_y == \"Corporate\" ')\n",
    "#got_data = got_data.query('company_x == \"Infineon\" and company_y == \"Cypress\" and Function_x == \"Corporate\"')                          "
   ]
  },
  {
   "cell_type": "code",
   "execution_count": 290,
   "id": "b7c56d1b",
   "metadata": {},
   "outputs": [],
   "source": [
    "#got_data"
   ]
  },
  {
   "cell_type": "code",
   "execution_count": 291,
   "id": "584d4960",
   "metadata": {},
   "outputs": [],
   "source": [
    "#set nodes to (str)\n",
    "got_data['sender'] = got_data['sender'].apply(str)\n",
    "got_data['recipient'] = got_data['recipient'].apply(str)\n",
    "#got_data.dtypes"
   ]
  },
  {
   "cell_type": "code",
   "execution_count": 292,
   "id": "0d2477e8",
   "metadata": {},
   "outputs": [],
   "source": [
    "#remove self emails\n",
    "got_data = got_data[got_data['sender'] != got_data['recipient']]"
   ]
  },
  {
   "cell_type": "code",
   "execution_count": 293,
   "id": "3911625a",
   "metadata": {},
   "outputs": [],
   "source": [
    "#export if ness\n",
    "#got_data.to_csv(r'ifcyfi.csv', index = False)"
   ]
  },
  {
   "cell_type": "code",
   "execution_count": 294,
   "id": "cdb5bbb1",
   "metadata": {},
   "outputs": [],
   "source": [
    "sources =got_data['sender']\n",
    "targets =got_data['recipient']\n",
    "weights =got_data['TrustScore']"
   ]
  },
  {
   "cell_type": "code",
   "execution_count": 295,
   "id": "efe800c6",
   "metadata": {},
   "outputs": [],
   "source": [
    "edge_data =zip(sources, targets, weights)"
   ]
  },
  {
   "cell_type": "code",
   "execution_count": 296,
   "id": "8d628b29",
   "metadata": {},
   "outputs": [],
   "source": [
    "for e in edge_data:\n",
    "    src =e[0] #source\n",
    "    dst =e[1] #destination\n",
    "    w=e[2]    #weight \n",
    "   \n",
    "    got_net.add_node(src, src, title=src, color='#CC3399')\n",
    "    got_net.add_node(dst, dst, title=dst, color='#00FFFF')\n",
    "    got_net.add_edge(src, dst, value=w, title=w, color='#546E7A')\n",
    " \n",
    "    neighbor_map =got_net.get_adj_list()"
   ]
  },
  {
   "cell_type": "code",
   "execution_count": 297,
   "id": "2128d103",
   "metadata": {},
   "outputs": [],
   "source": [
    "# add neighbor data to node hover data\n",
    "for node in got_net.nodes:\n",
    "   \n",
    "    node[\"title\"]+= \" Neighbors:<br>\" +\\\n",
    "            \"<br>\".join(neighbor_map[node[\"id\"]])\n",
    "    node[\"value\"]=len(neighbor_map[node[\"id\"]])\n",
    "    \n",
    "    #get_nodes(got_net)\n",
    "got_net.set_edge_smooth('dynamic')\n",
    "got_net.show(\"Infinion_Cypress_Finance.html\")\n",
    "#got_net.save_graph(\"exampleInf.html\")"
   ]
  },
  {
   "cell_type": "code",
   "execution_count": null,
   "id": "c8b85c04",
   "metadata": {},
   "outputs": [],
   "source": []
  },
  {
   "cell_type": "code",
   "execution_count": null,
   "id": "2e290890",
   "metadata": {},
   "outputs": [],
   "source": []
  }
 ],
 "metadata": {
  "kernelspec": {
   "display_name": "Python 3",
   "language": "python",
   "name": "python3"
  },
  "language_info": {
   "codemirror_mode": {
    "name": "ipython",
    "version": 3
   },
   "file_extension": ".py",
   "mimetype": "text/x-python",
   "name": "python",
   "nbconvert_exporter": "python",
   "pygments_lexer": "ipython3",
   "version": "3.8.8"
  }
 },
 "nbformat": 4,
 "nbformat_minor": 5
}
