{
 "cells": [
  {
   "cell_type": "code",
   "execution_count": 37,
   "metadata": {},
   "outputs": [],
   "source": [
    "#https://www.youtube.com/watch?v=EvcL_hgJQSg&t=922s\n",
    "from pandas_datareader import data as reader\n",
    "import yfinance as yf\n",
    "import datetime as dt\n",
    "import matplotlib.pyplot as plt\n",
    "import seaborn as sns"
   ]
  },
  {
   "cell_type": "code",
   "execution_count": 70,
   "metadata": {},
   "outputs": [],
   "source": [
    "end = dt.datetime.now()\n",
    "start = dt.date(end.year - 4,end.month,end.day)\n",
    "kryptoList = ['BTC-USD']"
   ]
  },
  {
   "cell_type": "code",
   "execution_count": 71,
   "metadata": {},
   "outputs": [],
   "source": [
    "df =  reader.get_data_yahoo(kryptoList,start,end)"
   ]
  },
  {
   "cell_type": "code",
   "execution_count": 72,
   "metadata": {},
   "outputs": [
    {
     "data": {
      "text/html": [
       "<div>\n",
       "<style scoped>\n",
       "    .dataframe tbody tr th:only-of-type {\n",
       "        vertical-align: middle;\n",
       "    }\n",
       "\n",
       "    .dataframe tbody tr th {\n",
       "        vertical-align: top;\n",
       "    }\n",
       "\n",
       "    .dataframe thead tr th {\n",
       "        text-align: left;\n",
       "    }\n",
       "\n",
       "    .dataframe thead tr:last-of-type th {\n",
       "        text-align: right;\n",
       "    }\n",
       "</style>\n",
       "<table border=\"1\" class=\"dataframe\">\n",
       "  <thead>\n",
       "    <tr>\n",
       "      <th>Attributes</th>\n",
       "      <th>Adj Close</th>\n",
       "      <th>Close</th>\n",
       "      <th>High</th>\n",
       "      <th>Low</th>\n",
       "      <th>Open</th>\n",
       "      <th>Volume</th>\n",
       "    </tr>\n",
       "    <tr>\n",
       "      <th>Symbols</th>\n",
       "      <th>BTC-USD</th>\n",
       "      <th>BTC-USD</th>\n",
       "      <th>BTC-USD</th>\n",
       "      <th>BTC-USD</th>\n",
       "      <th>BTC-USD</th>\n",
       "      <th>BTC-USD</th>\n",
       "    </tr>\n",
       "    <tr>\n",
       "      <th>Date</th>\n",
       "      <th></th>\n",
       "      <th></th>\n",
       "      <th></th>\n",
       "      <th></th>\n",
       "      <th></th>\n",
       "      <th></th>\n",
       "    </tr>\n",
       "  </thead>\n",
       "  <tbody>\n",
       "    <tr>\n",
       "      <th>2017-06-24</th>\n",
       "      <td>2589.409912</td>\n",
       "      <td>2589.409912</td>\n",
       "      <td>2682.260010</td>\n",
       "      <td>2552.120117</td>\n",
       "      <td>2607.250000</td>\n",
       "      <td>1.161100e+09</td>\n",
       "    </tr>\n",
       "    <tr>\n",
       "      <th>2017-06-25</th>\n",
       "      <td>2478.449951</td>\n",
       "      <td>2478.449951</td>\n",
       "      <td>2615.250000</td>\n",
       "      <td>2376.290039</td>\n",
       "      <td>2590.570068</td>\n",
       "      <td>1.663280e+09</td>\n",
       "    </tr>\n",
       "    <tr>\n",
       "      <th>2017-06-26</th>\n",
       "      <td>2552.449951</td>\n",
       "      <td>2552.449951</td>\n",
       "      <td>2552.449951</td>\n",
       "      <td>2332.989990</td>\n",
       "      <td>2478.449951</td>\n",
       "      <td>1.489790e+09</td>\n",
       "    </tr>\n",
       "    <tr>\n",
       "      <th>2017-06-27</th>\n",
       "      <td>2574.790039</td>\n",
       "      <td>2574.790039</td>\n",
       "      <td>2603.979980</td>\n",
       "      <td>2484.419922</td>\n",
       "      <td>2553.030029</td>\n",
       "      <td>1.183870e+09</td>\n",
       "    </tr>\n",
       "    <tr>\n",
       "      <th>2017-06-28</th>\n",
       "      <td>2539.320068</td>\n",
       "      <td>2539.320068</td>\n",
       "      <td>2588.830078</td>\n",
       "      <td>2510.479980</td>\n",
       "      <td>2567.560059</td>\n",
       "      <td>9.499790e+08</td>\n",
       "    </tr>\n",
       "    <tr>\n",
       "      <th>...</th>\n",
       "      <td>...</td>\n",
       "      <td>...</td>\n",
       "      <td>...</td>\n",
       "      <td>...</td>\n",
       "      <td>...</td>\n",
       "      <td>...</td>\n",
       "    </tr>\n",
       "    <tr>\n",
       "      <th>2021-06-20</th>\n",
       "      <td>31676.693359</td>\n",
       "      <td>31676.693359</td>\n",
       "      <td>35721.640625</td>\n",
       "      <td>31295.935547</td>\n",
       "      <td>35641.144531</td>\n",
       "      <td>5.280904e+10</td>\n",
       "    </tr>\n",
       "    <tr>\n",
       "      <th>2021-06-21</th>\n",
       "      <td>32505.660156</td>\n",
       "      <td>32505.660156</td>\n",
       "      <td>33292.453125</td>\n",
       "      <td>28893.621094</td>\n",
       "      <td>31622.376953</td>\n",
       "      <td>5.896435e+10</td>\n",
       "    </tr>\n",
       "    <tr>\n",
       "      <th>2021-06-22</th>\n",
       "      <td>33723.027344</td>\n",
       "      <td>33723.027344</td>\n",
       "      <td>34753.410156</td>\n",
       "      <td>31772.632812</td>\n",
       "      <td>32515.714844</td>\n",
       "      <td>4.631711e+10</td>\n",
       "    </tr>\n",
       "    <tr>\n",
       "      <th>2021-06-23</th>\n",
       "      <td>34662.437500</td>\n",
       "      <td>34662.437500</td>\n",
       "      <td>35228.851562</td>\n",
       "      <td>32385.214844</td>\n",
       "      <td>33682.800781</td>\n",
       "      <td>3.312337e+10</td>\n",
       "    </tr>\n",
       "    <tr>\n",
       "      <th>2021-06-25</th>\n",
       "      <td>31768.353516</td>\n",
       "      <td>31768.353516</td>\n",
       "      <td>35380.593750</td>\n",
       "      <td>31587.607422</td>\n",
       "      <td>34762.164062</td>\n",
       "      <td>3.982350e+10</td>\n",
       "    </tr>\n",
       "  </tbody>\n",
       "</table>\n",
       "<p>1458 rows × 6 columns</p>\n",
       "</div>"
      ],
      "text/plain": [
       "Attributes     Adj Close         Close          High           Low  \\\n",
       "Symbols          BTC-USD       BTC-USD       BTC-USD       BTC-USD   \n",
       "Date                                                                 \n",
       "2017-06-24   2589.409912   2589.409912   2682.260010   2552.120117   \n",
       "2017-06-25   2478.449951   2478.449951   2615.250000   2376.290039   \n",
       "2017-06-26   2552.449951   2552.449951   2552.449951   2332.989990   \n",
       "2017-06-27   2574.790039   2574.790039   2603.979980   2484.419922   \n",
       "2017-06-28   2539.320068   2539.320068   2588.830078   2510.479980   \n",
       "...                  ...           ...           ...           ...   \n",
       "2021-06-20  31676.693359  31676.693359  35721.640625  31295.935547   \n",
       "2021-06-21  32505.660156  32505.660156  33292.453125  28893.621094   \n",
       "2021-06-22  33723.027344  33723.027344  34753.410156  31772.632812   \n",
       "2021-06-23  34662.437500  34662.437500  35228.851562  32385.214844   \n",
       "2021-06-25  31768.353516  31768.353516  35380.593750  31587.607422   \n",
       "\n",
       "Attributes          Open        Volume  \n",
       "Symbols          BTC-USD       BTC-USD  \n",
       "Date                                    \n",
       "2017-06-24   2607.250000  1.161100e+09  \n",
       "2017-06-25   2590.570068  1.663280e+09  \n",
       "2017-06-26   2478.449951  1.489790e+09  \n",
       "2017-06-27   2553.030029  1.183870e+09  \n",
       "2017-06-28   2567.560059  9.499790e+08  \n",
       "...                  ...           ...  \n",
       "2021-06-20  35641.144531  5.280904e+10  \n",
       "2021-06-21  31622.376953  5.896435e+10  \n",
       "2021-06-22  32515.714844  4.631711e+10  \n",
       "2021-06-23  33682.800781  3.312337e+10  \n",
       "2021-06-25  34762.164062  3.982350e+10  \n",
       "\n",
       "[1458 rows x 6 columns]"
      ]
     },
     "execution_count": 72,
     "metadata": {},
     "output_type": "execute_result"
    }
   ],
   "source": [
    "df"
   ]
  },
  {
   "cell_type": "code",
   "execution_count": 73,
   "metadata": {},
   "outputs": [],
   "source": [
    "#Create a function to get the Simple Moving Average\n",
    "def SMA(data, period=30, column='Close'):\n",
    " return data[column].rolling(window=period).mean()"
   ]
  },
  {
   "cell_type": "code",
   "execution_count": 74,
   "metadata": {},
   "outputs": [],
   "source": [
    "#create new column to store the short term SMA and the long term SMA\n",
    "df['ShortSMA']= SMA(df,50)\n",
    "df['LongSMA']=SMA(df,200)"
   ]
  },
  {
   "cell_type": "code",
   "execution_count": 75,
   "metadata": {},
   "outputs": [
    {
     "data": {
      "text/plain": [
       "<function matplotlib.pyplot.show(*args, **kw)>"
      ]
     },
     "execution_count": 75,
     "metadata": {},
     "output_type": "execute_result"
    },
    {
     "data": {
      "image/png": "[encoded data removed]",
      "text/plain": [
       "<Figure size 878.4x460.8 with 1 Axes>"
      ]
     },
     "metadata": {
      "needs_background": "light"
     },
     "output_type": "display_data"
    }
   ],
   "source": [
    "#Plot the chart\n",
    "#create a list of columns to display\n",
    "column_list = ['ShortSMA','LongSMA','Close']\n",
    "df[column_list].plot(figsize=(12.2,6.4))\n",
    "plt.title('Death / Golden Cross')\n",
    "plt.show"
   ]
  },
  {
   "cell_type": "code",
   "execution_count": 76,
   "metadata": {},
   "outputs": [],
   "source": [
    "#create a function to see the dates of each death and golden cross within the data set\n",
    "def death_golden_cross():\n",
    "    first_cross=0\n",
    "    #loop though the length of the data set\n",
    "    for i in range(0,len(df)):\n",
    "        if df['ShortSMA'][i] < df['LongSMA'][i] and first_cross == 0:\n",
    "            print('Death cross on day', df.index[i], ': expect the price to continue to fall')\n",
    "            first_cross = 1\n",
    "        elif df['ShortSMA'][i] > df['LongSMA'][i] and first_cross == 1: \n",
    "            print('Golden cross on day', df.index[i], ': expect the price to continue to rise')\n",
    "            first_cross = 0"
   ]
  },
  {
   "cell_type": "code",
   "execution_count": 77,
   "metadata": {},
   "outputs": [
    {
     "name": "stdout",
     "output_type": "stream",
     "text": [
      "Death cross on day 2018-03-29 00:00:00 : expect the price to continue to fall\n",
      "Golden cross on day 2019-04-23 00:00:00 : expect the price to continue to rise\n",
      "Death cross on day 2019-10-25 00:00:00 : expect the price to continue to fall\n",
      "Golden cross on day 2020-02-19 00:00:00 : expect the price to continue to rise\n",
      "Death cross on day 2020-03-25 00:00:00 : expect the price to continue to fall\n",
      "Golden cross on day 2020-05-20 00:00:00 : expect the price to continue to rise\n",
      "Death cross on day 2021-06-18 00:00:00 : expect the price to continue to fall\n"
     ]
    }
   ],
   "source": [
    "#show the dates of each death cross and golden cross\n",
    "death_golden_cross()"
   ]
  },
  {
   "cell_type": "code",
   "execution_count": null,
   "metadata": {},
   "outputs": [],
   "source": []
  },
  {
   "cell_type": "code",
   "execution_count": null,
   "metadata": {},
   "outputs": [],
   "source": []
  }
 ],
 "metadata": {
  "kernelspec": {
   "display_name": "Python 3",
   "language": "python",
   "name": "python3"
  },
  "language_info": {
   "codemirror_mode": {
    "name": "ipython",
    "version": 3
   },
   "file_extension": ".py",
   "mimetype": "text/x-python",
   "name": "python",
   "nbconvert_exporter": "python",
   "pygments_lexer": "ipython3",
   "version": "3.7.4"
  },
  "toc": {
   "base_numbering": 1,
   "nav_menu": {},
   "number_sections": true,
   "sideBar": true,
   "skip_h1_title": false,
   "title_cell": "Table of Contents",
   "title_sidebar": "Contents",
   "toc_cell": false,
   "toc_position": {},
   "toc_section_display": true,
   "toc_window_display": false
  }
 },
 "nbformat": 4,
 "nbformat_minor": 2
}
