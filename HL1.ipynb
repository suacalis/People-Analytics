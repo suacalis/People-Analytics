{
 "cells": [
  {
   "cell_type": "code",
   "execution_count": 38,
   "id": "1ea05615",
   "metadata": {},
   "outputs": [],
   "source": [
    "# pY"
   ]
  },
  {
   "cell_type": "code",
   "execution_count": 51,
   "id": "fe615ba7",
   "metadata": {},
   "outputs": [],
   "source": [
    "from pyvis.network import Network\n",
    "import pandas as pd\n",
    "import numpy as np"
   ]
  },
  {
   "cell_type": "code",
   "execution_count": 52,
   "id": "85c1faf2",
   "metadata": {},
   "outputs": [],
   "source": [
    "#df2=pd.read_csv('q1NodeEdge.csv')\n",
    "df2=pd.read_csv('q1NodeEdge.csv')"
   ]
  },
  {
   "cell_type": "code",
   "execution_count": 53,
   "id": "c00d958d",
   "metadata": {},
   "outputs": [],
   "source": [
    "#set prams for output\n",
    "df2_net =Network(\n",
    "    height=\"100%\",\n",
    "    width=\"100%\",\n",
    "    bgcolor=\"#222222\",\n",
    "    font_color=\"white\"\n",
    ")    "
   ]
  },
  {
   "cell_type": "code",
   "execution_count": 54,
   "id": "1d0b6906",
   "metadata": {},
   "outputs": [],
   "source": [
    "# set the physics layout of the network\n",
    "#got_net.barnes_hut()\n",
    "#df1_net.repulsion()\n",
    "df2_net.toggle_hide_edges_on_drag(True)"
   ]
  },
  {
   "cell_type": "code",
   "execution_count": 55,
   "id": "18736593",
   "metadata": {},
   "outputs": [],
   "source": [
    "#set nodes to (str)\n",
    "df2['sender'] = df2['sender'].apply(str)\n",
    "df2['recipient'] = df2['recipient'].apply(str)"
   ]
  },
  {
   "cell_type": "code",
   "execution_count": 56,
   "id": "5cda8865",
   "metadata": {},
   "outputs": [],
   "source": [
    "#get rid of self mail\n",
    "df2 = df2[df2['sender'] != df2['recipient']]"
   ]
  },
  {
   "cell_type": "code",
   "execution_count": 57,
   "id": "741b378e",
   "metadata": {
    "scrolled": true
   },
   "outputs": [
    {
     "data": {
      "text/plain": [
       "(726, 13)"
      ]
     },
     "execution_count": 57,
     "metadata": {},
     "output_type": "execute_result"
    }
   ],
   "source": [
    "#Conditionals\n",
    "df2 = df2.query('Level ==\"HL 1\" and TrustScore > 25 ')\n",
    "df2.shape"
   ]
  },
  {
   "cell_type": "code",
   "execution_count": 58,
   "id": "32179285",
   "metadata": {},
   "outputs": [],
   "source": [
    "#Build the graPH\n",
    "sources =df2['sender']\n",
    "targets =df2['recipient']\n",
    "weights =df2['TrustScore']\n",
    "comb =df2['comb']\n"
   ]
  },
  {
   "cell_type": "code",
   "execution_count": 59,
   "id": "67efb150",
   "metadata": {},
   "outputs": [],
   "source": [
    "edge_data =zip(sources, targets, weights, comb)"
   ]
  },
  {
   "cell_type": "code",
   "execution_count": 60,
   "id": "a9a83d61",
   "metadata": {},
   "outputs": [],
   "source": [
    "for e2 in edge_data:\n",
    "    src2 =e2[0] #source\n",
    "    dst2 =e2[1] #destination\n",
    "    w2=e2[2]    #weight \n",
    "    c=e2[3]\n",
    "    if c== 'IndiaCypress':\n",
    "        df2_net.add_node(src2, src2, title=src2, color='#CE93D8')#''#CC3399') #pink \n",
    "        df2_net.add_node(dst2, dst2, title=dst2, color='#CE93D8')\n",
    "    if c== 'United StatesCypress':  \n",
    "        df2_net.add_node(src2, src2, title=src2, color='#6A1B94')#''#CC3399') #pink \n",
    "        df2_net.add_node(dst2, dst2, title=dst2, color='#6A1B94')\n",
    "    if c== 'IndiaInfineon':\n",
    "        df2_net.add_node(src2, src2, title=src2, color='#00CCFF')#''#CC3399') #pink \n",
    "        df2_net.add_node(dst2, dst2, title=dst2, color='#00CCFF')\n",
    "    if c== 'United StatesInfineon':\n",
    "        df2_net.add_node(src2, src2, title=src2, color='#0000FF')\n",
    "        df2_net.add_node(dst2, dst2, title=dst2, color='#0000FF') \n",
    "   # df2_net.add_node(dst2, dst2, title=dst2, color='#00FFFF') #cyan\n",
    "    #df1_net.add_node(src, dst, title=c, color='green')\n",
    "    df2_net.add_edge(src2, dst2, value=w2, title=w2, color='#546E7A')\n",
    " \n",
    "    neighbor_map =df2_net.get_adj_list()"
   ]
  },
  {
   "cell_type": "code",
   "execution_count": 61,
   "id": "f242f0f9",
   "metadata": {},
   "outputs": [],
   "source": [
    "# add neighbor data to node hover data\n",
    "for node in df2_net.nodes:\n",
    "   \n",
    "    node[\"title\"]+= \" Neighbors:<br>\" +\\\n",
    "            \"<br>\".join(neighbor_map[node[\"id\"]])\n",
    "    node[\"value\"]=len(neighbor_map[node[\"id\"]])\n",
    "    \n",
    "    #get_nodes(got_net)\n",
    "df2_net.set_edge_smooth('dynamic')\n",
    "#df2_net.show(\"SophieQ2.html\")\n",
    "df2_net.show(\"Q1-HL1.html\")\n"
   ]
  }
 ],
 "metadata": {
  "kernelspec": {
   "display_name": "Python 3",
   "language": "python",
   "name": "python3"
  },
  "language_info": {
   "codemirror_mode": {
    "name": "ipython",
    "version": 3
   },
   "file_extension": ".py",
   "mimetype": "text/x-python",
   "name": "python",
   "nbconvert_exporter": "python",
   "pygments_lexer": "ipython3",
   "version": "3.8.8"
  }
 },
 "nbformat": 4,
 "nbformat_minor": 5
}
