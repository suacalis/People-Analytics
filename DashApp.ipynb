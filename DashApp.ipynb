{
 "cells": [
  {
   "cell_type": "code",
   "execution_count": 34,
   "metadata": {},
   "outputs": [],
   "source": [
    "#!pip install dash\n",
    "#!pip install jupyter_dash\n",
    "#!pip install jupyterlab\n",
    "import dash\n",
    "from jupyter_dash import JupyterDash\n",
    "import dash_html_components as html\n",
    "import dash_core_components as dcc\n",
    "from dash.dependencies import Input, Output\n",
    "import plotly.express as px\n",
    "\n",
    "df = px.data.gapminder()\n",
    "col_options =[dict(label=x,value=x) for x in df['year'].unique()]\n",
    "app = JupyterDash(__name__)\n",
    "\n",
    "app.layout = html.Div(children =[\n",
    "    html.H1(\"Demo: Plotly Express & Dash\"),\n",
    "    dcc.Dropdown(id='year',value=2007,options=col_options),\n",
    "    dcc.Graph(id=\"graph\",figure={}),\n",
    "    dcc.Graph(id=\"graph2\",figure={})\n",
    "])\n",
    "@app.callback(Output('graph','figure'),\n",
    "             [Input('year','value')])\n",
    "def cb(year):\n",
    "    year = year if year else 2007\n",
    "    df_year = df.query(\"year == @year\")\n",
    "    return px.scatter(df_year, x=\"gdpPercap\", y=\"lifeExp\",size=\"pop\",\n",
    "                     log_x=True, size_max=60, height=400,\n",
    "                     custom_data=[df_year.index]).update_layout(dragmode='lasso')\n",
    "@app.callback(Output('graph2','figure'),\n",
    "    [Input('year','value'),Input('graph','selectedData')])\n",
    "def display_selected_data(year, selectedData):\n",
    "    year = year if year else 2007\n",
    "    df_year =df.query('year == @year')\n",
    "    if selectedData:\n",
    "        indices = [point['customdata'][0]\n",
    "                   for point in selectedData['points']]\n",
    "        df_year = df_year.loc[indices]\n",
    "        \n",
    "        return px.scatter_geo(df_year, locations='iso_alpha',\n",
    "                              size='pop',height=400)\n",
    "#app.run_server(mode=\"external\")\n",
    "app.run_server(mode=\"jupyterlab\")"
   ]
  },
  {
   "cell_type": "code",
   "execution_count": null,
   "metadata": {},
   "outputs": [],
   "source": []
  },
  {
   "cell_type": "code",
   "execution_count": null,
   "metadata": {},
   "outputs": [],
   "source": []
  }
 ],
 "metadata": {
  "kernelspec": {
   "display_name": "Python 3",
   "language": "python",
   "name": "python3"
  },
  "language_info": {
   "codemirror_mode": {
    "name": "ipython",
    "version": 3
   },
   "file_extension": ".py",
   "mimetype": "text/x-python",
   "name": "python",
   "nbconvert_exporter": "python",
   "pygments_lexer": "ipython3",
   "version": "3.7.4"
  }
 },
 "nbformat": 4,
 "nbformat_minor": 4
}
