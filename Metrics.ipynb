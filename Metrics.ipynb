{
 "cells": [
  {
   "cell_type": "markdown",
   "metadata": {},
   "source": [
    "VECTOR Data Structure"
   ]
  },
  {
   "cell_type": "code",
   "execution_count": 1,
   "metadata": {},
   "outputs": [],
   "source": [
    "#import libraries\n",
    "import numpy as np\n",
    "import pandas as pd"
   ]
  },
  {
   "cell_type": "code",
   "execution_count": 3,
   "metadata": {},
   "outputs": [],
   "source": [
    "#Load Datasets\n",
    "#dfe=pd.read_csv('cnl-edge-210630.tsv', sep='\\t')\n",
    "#dfn=pd.read_csv('pametrics20210630.tsv', sep='\\t')"
   ]
  },
  {
   "cell_type": "code",
   "execution_count": 4,
   "metadata": {},
   "outputs": [],
   "source": [
    "#Delete\n",
    "#shorten the hash on the node file\n",
    "#dfn['address'] = dfn['address'].str[:8]\n",
    "#dfn['manager'] = dfn['manager'].str[:8]\n",
    "#shorten the hash on the Edge file\n",
    "#dfe['Remote'] = dfe['Remote'].str[:8]\n",
    "#dfe['Local'] = dfe['Local'].str[:8]"
   ]
  },
  {
   "cell_type": "code",
   "execution_count": 5,
   "metadata": {},
   "outputs": [],
   "source": [
    "#Prepare Edge file\n",
    "#drop cols if not required - count from left 0...\n",
    "#dfe.drop(dfe.columns[[2, 3, 4, 6,7,9,10,11,12,13,14,15,16]], axis = 1, inplace = True)"
   ]
  },
  {
   "cell_type": "code",
   "execution_count": 6,
   "metadata": {},
   "outputs": [],
   "source": [
    "#rename cols\n",
    "#Ego  and Alter\n",
    "#dfe.rename(columns = {\"Local\": \"sender\",\"Remote\":\"recipient\"}, inplace = True)"
   ]
  },
  {
   "cell_type": "code",
   "execution_count": 7,
   "metadata": {},
   "outputs": [],
   "source": [
    "#arrange order\n",
    "#dfe = dfe[['sender','recipient','Created','TrustScore']]"
   ]
  },
  {
   "cell_type": "code",
   "execution_count": 8,
   "metadata": {},
   "outputs": [],
   "source": [
    "#dfe.hist()"
   ]
  },
  {
   "cell_type": "code",
   "execution_count": 9,
   "metadata": {},
   "outputs": [],
   "source": [
    "#NB:merging on the recipient will reduce the number of rows\n",
    "#df2=pd.merge(df2, dfn, on='recipient', how ='right').fillna('NA')\n",
    "#df2=pd.merge(dfe, dfn, on='sender', how ='right').fillna('NA')\n",
    "#NB:merging on the recipient will reduce the number of rows\n",
    "#dfn=dfn.rename({'sender':'recipient'}, axis=1)"
   ]
  },
  {
   "cell_type": "code",
   "execution_count": 10,
   "metadata": {},
   "outputs": [],
   "source": [
    "#output as csv\n",
    "#dfe.to_csv(r'checkMI&MO.csv', index = False)"
   ]
  },
  {
   "cell_type": "code",
   "execution_count": 11,
   "metadata": {},
   "outputs": [],
   "source": [
    "#Conditionals\n",
    "#dfeTS = dfe[dfe['TrustScore']  >  15] \n",
    "#dfeTS.hist()"
   ]
  },
  {
   "cell_type": "code",
   "execution_count": 12,
   "metadata": {},
   "outputs": [],
   "source": [
    "#Activity by day\n",
    "#Convert to datetime\n",
    "#dfe[[\"Created\"]] = dfe[[\"Created\"]].apply(pd.to_datetime)\n",
    "#dfe['day_of_week'] = dfe['Created'].dt.day_name()"
   ]
  },
  {
   "cell_type": "code",
   "execution_count": null,
   "metadata": {},
   "outputs": [],
   "source": [
    "#dfs.to_csv(r'Sender-count-by-day.csv')"
   ]
  }
 ],
 "metadata": {
  "kernelspec": {
   "display_name": "Python 3",
   "language": "python",
   "name": "python3"
  },
  "language_info": {
   "codemirror_mode": {
    "name": "ipython",
    "version": 3
   },
   "file_extension": ".py",
   "mimetype": "text/x-python",
   "name": "python",
   "nbconvert_exporter": "python",
   "pygments_lexer": "ipython3",
   "version": "3.7.4"
  },
  "toc": {
   "base_numbering": 1,
   "nav_menu": {},
   "number_sections": true,
   "sideBar": true,
   "skip_h1_title": false,
   "title_cell": "Table of Contents",
   "title_sidebar": "Contents",
   "toc_cell": false,
   "toc_position": {},
   "toc_section_display": true,
   "toc_window_display": false
  }
 },
 "nbformat": 4,
 "nbformat_minor": 2
}
