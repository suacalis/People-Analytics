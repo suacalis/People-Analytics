{
 "cells": [
  {
   "cell_type": "code",
   "execution_count": 1,
   "metadata": {},
   "outputs": [],
   "source": [
    "import numpy as np\n",
    "import pandas as pd\n",
    "import matplotlib.pyplot as plt\n",
    "%matplotlib inline\n",
    "import seaborn as sns"
   ]
  },
  {
   "cell_type": "code",
   "execution_count": 2,
   "metadata": {},
   "outputs": [],
   "source": [
    "# load the datasets\n",
    "dfgen=pd.read_csv('pf-general.tsv', sep='\\t')\n",
    "dfhr=pd.read_csv('./CSV/HR_Data_Final_update.csv')"
   ]
  },
  {
   "cell_type": "code",
   "execution_count": 3,
   "metadata": {},
   "outputs": [],
   "source": [
    "#strip white spaces\n",
    "dfgen=dfgen.apply(lambda x: x.str.strip() if x.dtype == \"object\" else x)\n",
    "dfhr=dfhr.apply(lambda x: x.str.strip() if x.dtype == \"object\" else x)"
   ]
  },
  {
   "cell_type": "code",
   "execution_count": 5,
   "metadata": {},
   "outputs": [],
   "source": [
    "#drop cols if not required - count from left 0...\n",
    "dfgen.drop(dfgen.columns[[2, 3, 4, 6,7,9,10,11,12,13,14,15,16]], axis = 1, inplace = True)"
   ]
  },
  {
   "cell_type": "code",
   "execution_count": 7,
   "metadata": {},
   "outputs": [],
   "source": [
    "dfgen = pd.DataFrame(dfgen)"
   ]
  },
  {
   "cell_type": "code",
   "execution_count": 8,
   "metadata": {},
   "outputs": [],
   "source": [
    "#rename cols\n",
    "dfgen.rename(columns = {\"Local\": \"address\",\"Remote\":\"recipient\"}, inplace = True)"
   ]
  },
  {
   "cell_type": "code",
   "execution_count": 9,
   "metadata": {},
   "outputs": [],
   "source": [
    "#arrange order\n",
    "dfgen = dfgen[['address','recipient','Created','TrustScore']]"
   ]
  },
  {
   "cell_type": "code",
   "execution_count": 10,
   "metadata": {},
   "outputs": [],
   "source": [
    "#join on with address\n",
    "dfgen=pd.merge(dfgen,dfhr, on='address')"
   ]
  },
  {
   "cell_type": "code",
   "execution_count": 13,
   "metadata": {},
   "outputs": [],
   "source": [
    "dfc=dfgen.groupby ('address')['recipient'].count().sort_values(ascending=False)"
   ]
  },
  {
   "cell_type": "code",
   "execution_count": 14,
   "metadata": {},
   "outputs": [
    {
     "data": {
      "text/plain": [
       "address\n",
       "43135@2.test     1315\n",
       "36659@2.test     1190\n",
       "1540@2.test      1121\n",
       "39489@2.test      970\n",
       "34885@2.test      922\n",
       "                 ... \n",
       "43625@2.test        1\n",
       "217020@2.test       1\n",
       "253462@2.test       1\n",
       "142344@2.test       1\n",
       "27704@2.test        1\n",
       "Name: recipient, Length: 4324, dtype: int64"
      ]
     },
     "execution_count": 14,
     "metadata": {},
     "output_type": "execute_result"
    }
   ],
   "source": [
    "dfc"
   ]
  },
  {
   "cell_type": "code",
   "execution_count": 15,
   "metadata": {},
   "outputs": [],
   "source": [
    "#join on with address\n",
    "dfc=pd.merge(dfc,dfhr, on='address')"
   ]
  },
  {
   "cell_type": "code",
   "execution_count": 16,
   "metadata": {
    "scrolled": true
   },
   "outputs": [
    {
     "data": {
      "text/html": [
       "<div>\n",
       "<style scoped>\n",
       "    .dataframe tbody tr th:only-of-type {\n",
       "        vertical-align: middle;\n",
       "    }\n",
       "\n",
       "    .dataframe tbody tr th {\n",
       "        vertical-align: top;\n",
       "    }\n",
       "\n",
       "    .dataframe thead th {\n",
       "        text-align: right;\n",
       "    }\n",
       "</style>\n",
       "<table border=\"1\" class=\"dataframe\">\n",
       "  <thead>\n",
       "    <tr style=\"text-align: right;\">\n",
       "      <th></th>\n",
       "      <th>address</th>\n",
       "      <th>recipient</th>\n",
       "      <th>Sample</th>\n",
       "      <th>Job Level</th>\n",
       "      <th>Job Family</th>\n",
       "      <th>Team</th>\n",
       "      <th>Department</th>\n",
       "      <th>Location</th>\n",
       "    </tr>\n",
       "  </thead>\n",
       "  <tbody>\n",
       "    <tr>\n",
       "      <th>0</th>\n",
       "      <td>43135@2.test</td>\n",
       "      <td>1315</td>\n",
       "      <td>No</td>\n",
       "      <td>Manager/Sr. Manager</td>\n",
       "      <td>Bus Dev &amp; Strategic Planning</td>\n",
       "      <td>32645@2.test</td>\n",
       "      <td>Global Product Development</td>\n",
       "      <td>USA - MD - Remote</td>\n",
       "    </tr>\n",
       "    <tr>\n",
       "      <th>1</th>\n",
       "      <td>36659@2.test</td>\n",
       "      <td>1190</td>\n",
       "      <td>No</td>\n",
       "      <td>Analyst &amp; Below</td>\n",
       "      <td>Administrative</td>\n",
       "      <td>6771@2.test</td>\n",
       "      <td>WW Research &amp; Development</td>\n",
       "      <td>USA - CT - Groton</td>\n",
       "    </tr>\n",
       "    <tr>\n",
       "      <th>2</th>\n",
       "      <td>1540@2.test</td>\n",
       "      <td>1121</td>\n",
       "      <td>No</td>\n",
       "      <td>Analyst &amp; Below</td>\n",
       "      <td>Support Services</td>\n",
       "      <td>3876@2.test</td>\n",
       "      <td>WW Research &amp; Development</td>\n",
       "      <td>USA - MA - Andover</td>\n",
       "    </tr>\n",
       "    <tr>\n",
       "      <th>3</th>\n",
       "      <td>39489@2.test</td>\n",
       "      <td>970</td>\n",
       "      <td>No</td>\n",
       "      <td>Sr. Director</td>\n",
       "      <td>Regulatory Affairs</td>\n",
       "      <td>13490@2.test</td>\n",
       "      <td>Global Product Development</td>\n",
       "      <td>USA - MD - Silver Spring Colesville</td>\n",
       "    </tr>\n",
       "    <tr>\n",
       "      <th>4</th>\n",
       "      <td>34885@2.test</td>\n",
       "      <td>922</td>\n",
       "      <td>Yes</td>\n",
       "      <td>VP &amp; Above</td>\n",
       "      <td>Research and Development</td>\n",
       "      <td>27391@2.test</td>\n",
       "      <td>Global Product Development</td>\n",
       "      <td>USA - NJ - Peapack</td>\n",
       "    </tr>\n",
       "    <tr>\n",
       "      <th>...</th>\n",
       "      <td>...</td>\n",
       "      <td>...</td>\n",
       "      <td>...</td>\n",
       "      <td>...</td>\n",
       "      <td>...</td>\n",
       "      <td>...</td>\n",
       "      <td>...</td>\n",
       "      <td>...</td>\n",
       "    </tr>\n",
       "    <tr>\n",
       "      <th>4319</th>\n",
       "      <td>43625@2.test</td>\n",
       "      <td>1</td>\n",
       "      <td>No</td>\n",
       "      <td>Analyst &amp; Below</td>\n",
       "      <td>Sales</td>\n",
       "      <td>116808@2.test</td>\n",
       "      <td>Pfizer Biopharmaceuticals Group  (PBG)</td>\n",
       "      <td>ExUS</td>\n",
       "    </tr>\n",
       "    <tr>\n",
       "      <th>4320</th>\n",
       "      <td>217020@2.test</td>\n",
       "      <td>1</td>\n",
       "      <td>No</td>\n",
       "      <td>Manager/Sr. Manager</td>\n",
       "      <td>Support Services</td>\n",
       "      <td>64101@2.test</td>\n",
       "      <td>Pfizer Biopharmaceuticals Group  (PBG)</td>\n",
       "      <td>ExUS</td>\n",
       "    </tr>\n",
       "    <tr>\n",
       "      <th>4321</th>\n",
       "      <td>253462@2.test</td>\n",
       "      <td>1</td>\n",
       "      <td>No</td>\n",
       "      <td>Analyst &amp; Below</td>\n",
       "      <td>Sales</td>\n",
       "      <td>253414@2.test</td>\n",
       "      <td>Upjohn</td>\n",
       "      <td>ExUS</td>\n",
       "    </tr>\n",
       "    <tr>\n",
       "      <th>4322</th>\n",
       "      <td>142344@2.test</td>\n",
       "      <td>1</td>\n",
       "      <td>No</td>\n",
       "      <td>Analyst &amp; Below</td>\n",
       "      <td>Medical</td>\n",
       "      <td>44847@2.test</td>\n",
       "      <td>Global Product Development</td>\n",
       "      <td>ExUS</td>\n",
       "    </tr>\n",
       "    <tr>\n",
       "      <th>4323</th>\n",
       "      <td>27704@2.test</td>\n",
       "      <td>1</td>\n",
       "      <td>No</td>\n",
       "      <td>Manager/Sr. Manager</td>\n",
       "      <td>Research and Development</td>\n",
       "      <td>25388@2.test</td>\n",
       "      <td>WW Research &amp; Development</td>\n",
       "      <td>USA - CA - La Jolla</td>\n",
       "    </tr>\n",
       "  </tbody>\n",
       "</table>\n",
       "<p>4324 rows × 8 columns</p>\n",
       "</div>"
      ],
      "text/plain": [
       "            address  recipient Sample            Job Level  \\\n",
       "0      43135@2.test       1315     No  Manager/Sr. Manager   \n",
       "1      36659@2.test       1190     No      Analyst & Below   \n",
       "2       1540@2.test       1121     No      Analyst & Below   \n",
       "3      39489@2.test        970     No         Sr. Director   \n",
       "4      34885@2.test        922    Yes           VP & Above   \n",
       "...             ...        ...    ...                  ...   \n",
       "4319   43625@2.test          1     No      Analyst & Below   \n",
       "4320  217020@2.test          1     No  Manager/Sr. Manager   \n",
       "4321  253462@2.test          1     No      Analyst & Below   \n",
       "4322  142344@2.test          1     No      Analyst & Below   \n",
       "4323   27704@2.test          1     No  Manager/Sr. Manager   \n",
       "\n",
       "                        Job Family           Team  \\\n",
       "0     Bus Dev & Strategic Planning   32645@2.test   \n",
       "1                   Administrative    6771@2.test   \n",
       "2                 Support Services    3876@2.test   \n",
       "3               Regulatory Affairs   13490@2.test   \n",
       "4         Research and Development   27391@2.test   \n",
       "...                            ...            ...   \n",
       "4319                         Sales  116808@2.test   \n",
       "4320              Support Services   64101@2.test   \n",
       "4321                         Sales  253414@2.test   \n",
       "4322                       Medical   44847@2.test   \n",
       "4323      Research and Development   25388@2.test   \n",
       "\n",
       "                                  Department  \\\n",
       "0                 Global Product Development   \n",
       "1                  WW Research & Development   \n",
       "2                  WW Research & Development   \n",
       "3                 Global Product Development   \n",
       "4                 Global Product Development   \n",
       "...                                      ...   \n",
       "4319  Pfizer Biopharmaceuticals Group  (PBG)   \n",
       "4320  Pfizer Biopharmaceuticals Group  (PBG)   \n",
       "4321                                  Upjohn   \n",
       "4322              Global Product Development   \n",
       "4323               WW Research & Development   \n",
       "\n",
       "                                 Location  \n",
       "0                       USA - MD - Remote  \n",
       "1                       USA - CT - Groton  \n",
       "2                      USA - MA - Andover  \n",
       "3     USA - MD - Silver Spring Colesville  \n",
       "4                      USA - NJ - Peapack  \n",
       "...                                   ...  \n",
       "4319                                 ExUS  \n",
       "4320                                 ExUS  \n",
       "4321                                 ExUS  \n",
       "4322                                 ExUS  \n",
       "4323                  USA - CA - La Jolla  \n",
       "\n",
       "[4324 rows x 8 columns]"
      ]
     },
     "execution_count": 16,
     "metadata": {},
     "output_type": "execute_result"
    }
   ],
   "source": [
    "dfc\n"
   ]
  },
  {
   "cell_type": "code",
   "execution_count": 17,
   "metadata": {},
   "outputs": [],
   "source": [
    "#export\n",
    "dfc.to_csv(r'PF-count.csv', index = False)"
   ]
  },
  {
   "cell_type": "code",
   "execution_count": 1,
   "metadata": {},
   "outputs": [],
   "source": [
    "import networkx as nx"
   ]
  },
  {
   "cell_type": "code",
   "execution_count": 3,
   "metadata": {},
   "outputs": [
    {
     "ename": "NameError",
     "evalue": "name 'dfgen' is not defined",
     "output_type": "error",
     "traceback": [
      "\u001b[1;31m---------------------------------------------------------------------------\u001b[0m",
      "\u001b[1;31mNameError\u001b[0m                                 Traceback (most recent call last)",
      "\u001b[1;32m<ipython-input-3-4adf3fe4600f>\u001b[0m in \u001b[0;36m<module>\u001b[1;34m\u001b[0m\n\u001b[1;32m----> 1\u001b[1;33m \u001b[0mGu\u001b[0m \u001b[1;33m=\u001b[0m \u001b[0mnx\u001b[0m\u001b[1;33m.\u001b[0m\u001b[0mfrom_pandas_edgelist\u001b[0m\u001b[1;33m(\u001b[0m\u001b[0mdfgen\u001b[0m\u001b[1;33m,\u001b[0m \u001b[0msource\u001b[0m\u001b[1;33m=\u001b[0m\u001b[1;34m'Sender'\u001b[0m\u001b[1;33m,\u001b[0m \u001b[0mtarget\u001b[0m\u001b[1;33m=\u001b[0m\u001b[1;34m'Recipient'\u001b[0m\u001b[1;33m)\u001b[0m\u001b[1;33m\u001b[0m\u001b[1;33m\u001b[0m\u001b[0m\n\u001b[0m",
      "\u001b[1;31mNameError\u001b[0m: name 'dfgen' is not defined"
     ]
    }
   ],
   "source": [
    "Gu = nx.from_pandas_edgelist(dfgen, source='Sender', target='Recipient') "
   ]
  },
  {
   "cell_type": "code",
   "execution_count": null,
   "metadata": {},
   "outputs": [],
   "source": []
  }
 ],
 "metadata": {
  "kernelspec": {
   "display_name": "Python 3",
   "language": "python",
   "name": "python3"
  },
  "language_info": {
   "codemirror_mode": {
    "name": "ipython",
    "version": 3
   },
   "file_extension": ".py",
   "mimetype": "text/x-python",
   "name": "python",
   "nbconvert_exporter": "python",
   "pygments_lexer": "ipython3",
   "version": "3.7.6"
  }
 },
 "nbformat": 4,
 "nbformat_minor": 4
}
