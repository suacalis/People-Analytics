{
 "cells": [
  {
   "cell_type": "code",
   "execution_count": 29,
   "id": "495a0be7",
   "metadata": {},
   "outputs": [],
   "source": [
    "#Sophi'e 1st edge - experimental"
   ]
  },
  {
   "cell_type": "code",
   "execution_count": 30,
   "id": "8a355bf0",
   "metadata": {},
   "outputs": [],
   "source": [
    "from pyvis.network import Network\n",
    "import pandas as pd\n",
    "import numpy as np"
   ]
  },
  {
   "cell_type": "code",
   "execution_count": 31,
   "id": "b7ea4486",
   "metadata": {},
   "outputs": [],
   "source": [
    "#df1=pd.read_csv('Sophi-edge1.csv')\n",
    "df1=pd.read_csv('q1NodeEdge.csv')\n",
    "#df2=pd.read_csv('q1NodeEdge.csv')"
   ]
  },
  {
   "cell_type": "code",
   "execution_count": 32,
   "id": "d2471121",
   "metadata": {},
   "outputs": [],
   "source": [
    "#df1['Function'].value_counts()[:20].plot(kind='barh')"
   ]
  },
  {
   "cell_type": "code",
   "execution_count": 33,
   "id": "4033060d",
   "metadata": {},
   "outputs": [],
   "source": [
    "#Set the TrustScore threshhold\n",
    "df1 = df1.query( 'TrustScore >25')"
   ]
  },
  {
   "cell_type": "code",
   "execution_count": 34,
   "id": "68eccafa",
   "metadata": {},
   "outputs": [],
   "source": [
    "#set the department\n",
    "df1 = df1.query('Function == \"Corporate\"')"
   ]
  },
  {
   "cell_type": "code",
   "execution_count": 35,
   "id": "d8bd8d88",
   "metadata": {},
   "outputs": [],
   "source": [
    "#set prams for output\n",
    "df1_net =Network(\n",
    "    height=\"100%\",\n",
    "    width=\"100%\",\n",
    "    bgcolor=\"#222222\",\n",
    "    font_color=\"white\"\n",
    ")    "
   ]
  },
  {
   "cell_type": "code",
   "execution_count": 36,
   "id": "6796fe3d",
   "metadata": {},
   "outputs": [],
   "source": [
    "# set the physics layout of the network\n",
    "#got_net.barnes_hut()\n",
    "#df1_net.repulsion()\n",
    "df1_net.toggle_hide_edges_on_drag(True)"
   ]
  },
  {
   "cell_type": "code",
   "execution_count": 37,
   "id": "58661574",
   "metadata": {},
   "outputs": [],
   "source": [
    "#set nodes to (str)\n",
    "df1['sender'] = df1['sender'].apply(str)\n",
    "df1['recipient'] = df1['recipient'].apply(str)"
   ]
  },
  {
   "cell_type": "code",
   "execution_count": 38,
   "id": "7187929a",
   "metadata": {},
   "outputs": [],
   "source": [
    "sources =df1['sender']\n",
    "targets =df1['recipient']\n",
    "weights =df1['TrustScore']\n",
    "comb =df1['comb']"
   ]
  },
  {
   "cell_type": "code",
   "execution_count": 39,
   "id": "60db591d",
   "metadata": {},
   "outputs": [],
   "source": [
    "edge_data =zip(sources, targets, weights, comb)"
   ]
  },
  {
   "cell_type": "code",
   "execution_count": 40,
   "id": "a7fc4feb",
   "metadata": {},
   "outputs": [],
   "source": [
    "for e in edge_data:\n",
    "    src =e[0] #source\n",
    "    dst =e[1] #destination\n",
    "    w=e[2]    #weight \n",
    "    c=e[3]\n",
    "    if c== 'IndiaCypress':\n",
    "        df1_net.add_node(src, src, title=src, color='#CE93D8')\n",
    "        df1_net.add_node(dst, dst, title=dst, color='#CE93D8')\n",
    "    if c== 'United StatesCypress':  \n",
    "        df1_net.add_node(src, src, title=src, color='#6A1B9A')\n",
    "        df1_net.add_node(dst, dst, title=dst, color='#6A1B9A')\n",
    "    if c== 'IndiaInfineon':\n",
    "        df1_net.add_node(src, src, title=src, color='#00CCFF')\n",
    "        df1_net.add_node(dst, dst, title=dst, color='#00CCFF')\n",
    "    if c== 'United StatesInfineon':\n",
    "        df1_net.add_node(src, src, title=src, color='#0000FF')\n",
    "        df1_net.add_node(dst, dst, title=dst, color='#0000FF')    \n",
    "   \n",
    "    df1_net.add_edge(src, dst, value=w, title=w, color='#546E7A')\n",
    " \n",
    "    neighbor_map =df1_net.get_adj_list()"
   ]
  },
  {
   "cell_type": "code",
   "execution_count": 41,
   "id": "b5fb4bd2",
   "metadata": {},
   "outputs": [],
   "source": [
    "# add neighbor data to node hover data\n",
    "for node in df1_net.nodes:\n",
    "   \n",
    "    node[\"title\"]+= \" Neighbors:<br>\" +\\\n",
    "            \"<br>\".join(neighbor_map[node[\"id\"]])\n",
    "    node[\"value\"]=len(neighbor_map[node[\"id\"]])\n",
    "    \n",
    "    #get_nodes(df1_net)\n",
    "df1_net.set_edge_smooth('dynamic')\n",
    "#df1_net.show(\"Q1-R&D-TS31.html\")\n",
    "df1_net.show(\"Q1-Corporate-TS25.html\")"
   ]
  },
  {
   "cell_type": "code",
   "execution_count": 17,
   "id": "2d77e6a4",
   "metadata": {},
   "outputs": [
    {
     "data": {
      "text/plain": [
       "<AxesSubplot:>"
      ]
     },
     "execution_count": 17,
     "metadata": {},
     "output_type": "execute_result"
    },
    {
     "data": {
      "image/png": "[encoded data removed]",
      "text/plain": [
       "<Figure size 432x288 with 1 Axes>"
      ]
     },
     "metadata": {
      "needs_background": "light"
     },
     "output_type": "display_data"
    }
   ],
   "source": [
    "df1['comb'].value_counts()[:20].plot(kind='barh')"
   ]
  },
  {
   "cell_type": "code",
   "execution_count": 141,
   "id": "e4aa6ea2",
   "metadata": {},
   "outputs": [
    {
     "data": {
      "text/plain": [
       "<AxesSubplot:>"
      ]
     },
     "execution_count": 141,
     "metadata": {},
     "output_type": "execute_result"
    },
    {
     "data": {
      "image/png": "[encoded data removed]",
      "text/plain": [
       "<Figure size 432x288 with 1 Axes>"
      ]
     },
     "metadata": {
      "needs_background": "light"
     },
     "output_type": "display_data"
    }
   ],
   "source": []
  },
  {
   "cell_type": "code",
   "execution_count": null,
   "id": "01f2113f",
   "metadata": {},
   "outputs": [],
   "source": [
    "import nxviz as nv\n",
    "ax = nv.circos(\n",
    "    G,\n",
    "    group_by=\"group\",\n",
    "    sort_by=\"value\",\n",
    "    node_color_by=\"group\",\n",
    "    edge_alpha_by=\"edge_value\"\n",
    ")\n",
    "\n",
    "nv.annotate.circos_group(G, group_by=\"group\")\n"
   ]
  }
 ],
 "metadata": {
  "kernelspec": {
   "display_name": "Python 3",
   "language": "python",
   "name": "python3"
  },
  "language_info": {
   "codemirror_mode": {
    "name": "ipython",
    "version": 3
   },
   "file_extension": ".py",
   "mimetype": "text/x-python",
   "name": "python",
   "nbconvert_exporter": "python",
   "pygments_lexer": "ipython3",
   "version": "3.8.8"
  }
 },
 "nbformat": 4,
 "nbformat_minor": 5
}
